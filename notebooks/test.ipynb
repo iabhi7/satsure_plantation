{
 "cells": [
  {
   "cell_type": "markdown",
   "metadata": {},
   "source": [
    "# Plantation Data Analysis and Visualization\n",
    "\n",
    "This notebook provides comprehensive analysis and visualization of plantation data."
   ]
  },
  {
   "cell_type": "code",
   "execution_count": 2,
   "metadata": {},
   "outputs": [],
   "source": [
    "import geopandas as gpd\n",
    "import matplotlib.pyplot as plt\n",
    "import seaborn as sns\n",
    "import folium\n",
    "import pandas as pd\n",
    "import numpy as np\n",
    "import plotly.express as px\n",
    "import plotly.graph_objects as go\n",
    "from datetime import datetime\n",
    "import contextily as ctx\n",
    "\n",
    "# Set plotting style\n",
    "# plt.style.use('seaborn')\n",
    "# sns.set_palette('husl')"
   ]
  },
  {
   "cell_type": "code",
   "execution_count": 9,
   "metadata": {},
   "outputs": [
    {
     "name": "stdout",
     "output_type": "stream",
     "text": [
      "Collecting pyogrio\n",
      "  Downloading pyogrio-0.10.0.tar.gz (281 kB)\n",
      "\u001b[2K     \u001b[90m━━━━━━━━━━━━━━━━━━━━━━━━━━━━━━━━━━━━━━━\u001b[0m \u001b[32m281.9/281.9 kB\u001b[0m \u001b[31m1.6 MB/s\u001b[0m eta \u001b[36m0:00:00\u001b[0m00:01\u001b[0m00:01\u001b[0m\n",
      "\u001b[?25h  Installing build dependencies ... \u001b[?25ldone\n",
      "\u001b[?25h  Getting requirements to build wheel ... \u001b[?25ldone\n",
      "\u001b[?25h  Preparing metadata (pyproject.toml) ... \u001b[?25ldone\n",
      "\u001b[?25hRequirement already satisfied: certifi in /Users/abhishek/anaconda3/envs/dl/lib/python3.11/site-packages (from pyogrio) (2024.2.2)\n",
      "Requirement already satisfied: numpy in /Users/abhishek/anaconda3/envs/dl/lib/python3.11/site-packages (from pyogrio) (1.24.3)\n",
      "Requirement already satisfied: packaging in /Users/abhishek/anaconda3/envs/dl/lib/python3.11/site-packages (from pyogrio) (23.2)\n",
      "Building wheels for collected packages: pyogrio\n",
      "  Building wheel for pyogrio (pyproject.toml) ... \u001b[?25ldone\n",
      "\u001b[?25h  Created wheel for pyogrio: filename=pyogrio-0.10.0-cp311-cp311-macosx_10_9_x86_64.whl size=626589 sha256=f6a8c125b2143c00cfd1d50b99ab55ba3b138525e18f2ccdab04f591e2999dc2\n",
      "  Stored in directory: /Users/abhishek/Library/Caches/pip/wheels/72/55/75/093bef8c5bd7e716d6ae56df939ff12f65594ee52d6597b250\n",
      "Successfully built pyogrio\n",
      "Installing collected packages: pyogrio\n",
      "Successfully installed pyogrio-0.10.0\n"
     ]
    }
   ],
   "source": [
    "!pip install pyogrio"
   ]
  },
  {
   "cell_type": "code",
   "execution_count": 10,
   "metadata": {},
   "outputs": [
    {
     "ename": "ImportError",
     "evalue": "dlopen(/Users/abhishek/anaconda3/envs/dl/lib/python3.11/site-packages/pyogrio/_vsi.cpython-311-darwin.so, 0x0002): Library not loaded: @rpath/libpoppler.126.dylib\n  Referenced from: <413E6A19-458B-3234-A9DD-C70570AB464D> /Users/abhishek/anaconda3/envs/dl/lib/libgdal.32.3.6.2.dylib\n  Reason: tried: '/Users/abhishek/anaconda3/envs/dl/lib/libpoppler.126.dylib' (no such file), '/Users/abhishek/anaconda3/envs/dl/lib/libpoppler.126.dylib' (no such file), '/System/Volumes/Preboot/Cryptexes/OS/Users/abhishek/anaconda3/envs/dl/lib/libpoppler.126.dylib' (no such file), '/Users/abhishek/anaconda3/envs/dl/lib/libpoppler.126.dylib' (no such file), '/System/Volumes/Preboot/Cryptexes/OS/Users/abhishek/anaconda3/envs/dl/lib/libpoppler.126.dylib' (no such file), '/Users/abhishek/anaconda3/envs/dl/lib/libpoppler.126.dylib' (no such file), '/System/Volumes/Preboot/Cryptexes/OS/Users/abhishek/anaconda3/envs/dl/lib/libpoppler.126.dylib' (no such file), '/Users/abhishek/anaconda3/envs/dl/lib/libpoppler.126.dylib' (no such file), '/System/Volumes/Preboot/Cryptexes/OS/Users/abhishek/anaconda3/envs/dl/lib/libpoppler.126.dylib' (no such file), '/Users/abhishek/anaconda3/envs/dl/bin/../lib/libpoppler.126.dylib' (no such file), '/Users/abhishek/anaconda3/envs/dl/bin/../lib/libpoppler.126.dylib' (no such file), '/usr/local/lib/libpoppler.126.dylib' (no such file), '/usr/lib/libpoppler.126.dylib' (no such file, not in dyld cache)",
     "output_type": "error",
     "traceback": [
      "\u001b[0;31m---------------------------------------------------------------------------\u001b[0m",
      "\u001b[0;31mImportError\u001b[0m                               Traceback (most recent call last)",
      "Cell \u001b[0;32mIn[10], line 1\u001b[0m\n\u001b[0;32m----> 1\u001b[0m \u001b[38;5;28;01mimport\u001b[39;00m \u001b[38;5;21;01mpyogrio\u001b[39;00m\n\u001b[1;32m      2\u001b[0m \u001b[38;5;66;03m# import fiona\u001b[39;00m\n",
      "File \u001b[0;32m~/anaconda3/envs/dl/lib/python3.11/site-packages/pyogrio/__init__.py:12\u001b[0m\n\u001b[1;32m      9\u001b[0m     \u001b[38;5;28;01mpass\u001b[39;00m\n\u001b[1;32m     11\u001b[0m \u001b[38;5;28;01mfrom\u001b[39;00m \u001b[38;5;21;01mpyogrio\u001b[39;00m\u001b[38;5;21;01m.\u001b[39;00m\u001b[38;5;21;01m_version\u001b[39;00m \u001b[38;5;28;01mimport\u001b[39;00m get_versions\n\u001b[0;32m---> 12\u001b[0m \u001b[38;5;28;01mfrom\u001b[39;00m \u001b[38;5;21;01mpyogrio\u001b[39;00m\u001b[38;5;21;01m.\u001b[39;00m\u001b[38;5;21;01mcore\u001b[39;00m \u001b[38;5;28;01mimport\u001b[39;00m (\n\u001b[1;32m     13\u001b[0m     __gdal_geos_version__,\n\u001b[1;32m     14\u001b[0m     __gdal_version__,\n\u001b[1;32m     15\u001b[0m     __gdal_version_string__,\n\u001b[1;32m     16\u001b[0m     detect_write_driver,\n\u001b[1;32m     17\u001b[0m     get_gdal_config_option,\n\u001b[1;32m     18\u001b[0m     get_gdal_data_path,\n\u001b[1;32m     19\u001b[0m     list_drivers,\n\u001b[1;32m     20\u001b[0m     list_layers,\n\u001b[1;32m     21\u001b[0m     read_bounds,\n\u001b[1;32m     22\u001b[0m     read_info,\n\u001b[1;32m     23\u001b[0m     set_gdal_config_options,\n\u001b[1;32m     24\u001b[0m     vsi_listtree,\n\u001b[1;32m     25\u001b[0m     vsi_rmtree,\n\u001b[1;32m     26\u001b[0m     vsi_unlink,\n\u001b[1;32m     27\u001b[0m )\n\u001b[1;32m     28\u001b[0m \u001b[38;5;28;01mfrom\u001b[39;00m \u001b[38;5;21;01mpyogrio\u001b[39;00m\u001b[38;5;21;01m.\u001b[39;00m\u001b[38;5;21;01mgeopandas\u001b[39;00m \u001b[38;5;28;01mimport\u001b[39;00m read_dataframe, write_dataframe\n\u001b[1;32m     29\u001b[0m \u001b[38;5;28;01mfrom\u001b[39;00m \u001b[38;5;21;01mpyogrio\u001b[39;00m\u001b[38;5;21;01m.\u001b[39;00m\u001b[38;5;21;01mraw\u001b[39;00m \u001b[38;5;28;01mimport\u001b[39;00m open_arrow, read_arrow, write_arrow\n",
      "File \u001b[0;32m~/anaconda3/envs/dl/lib/python3.11/site-packages/pyogrio/core.py:7\u001b[0m\n\u001b[1;32m      4\u001b[0m \u001b[38;5;28;01mfrom\u001b[39;00m \u001b[38;5;21;01mtyping\u001b[39;00m \u001b[38;5;28;01mimport\u001b[39;00m Optional, Union\n\u001b[1;32m      6\u001b[0m \u001b[38;5;28;01mfrom\u001b[39;00m \u001b[38;5;21;01mpyogrio\u001b[39;00m\u001b[38;5;21;01m.\u001b[39;00m\u001b[38;5;21;01m_env\u001b[39;00m \u001b[38;5;28;01mimport\u001b[39;00m GDALEnv\n\u001b[0;32m----> 7\u001b[0m \u001b[38;5;28;01mfrom\u001b[39;00m \u001b[38;5;21;01mpyogrio\u001b[39;00m\u001b[38;5;21;01m.\u001b[39;00m\u001b[38;5;21;01mutil\u001b[39;00m \u001b[38;5;28;01mimport\u001b[39;00m (\n\u001b[1;32m      8\u001b[0m     _mask_to_wkb,\n\u001b[1;32m      9\u001b[0m     _preprocess_options_key_value,\n\u001b[1;32m     10\u001b[0m     get_vsi_path_or_buffer,\n\u001b[1;32m     11\u001b[0m )\n\u001b[1;32m     13\u001b[0m \u001b[38;5;28;01mwith\u001b[39;00m GDALEnv():\n\u001b[1;32m     14\u001b[0m     \u001b[38;5;28;01mfrom\u001b[39;00m \u001b[38;5;21;01mpyogrio\u001b[39;00m\u001b[38;5;21;01m.\u001b[39;00m\u001b[38;5;21;01m_err\u001b[39;00m \u001b[38;5;28;01mimport\u001b[39;00m _register_error_handler\n",
      "File \u001b[0;32m~/anaconda3/envs/dl/lib/python3.11/site-packages/pyogrio/util.py:10\u001b[0m\n\u001b[1;32m      7\u001b[0m \u001b[38;5;28;01mfrom\u001b[39;00m \u001b[38;5;21;01mtyping\u001b[39;00m \u001b[38;5;28;01mimport\u001b[39;00m Union\n\u001b[1;32m      8\u001b[0m \u001b[38;5;28;01mfrom\u001b[39;00m \u001b[38;5;21;01murllib\u001b[39;00m\u001b[38;5;21;01m.\u001b[39;00m\u001b[38;5;21;01mparse\u001b[39;00m \u001b[38;5;28;01mimport\u001b[39;00m urlparse\n\u001b[0;32m---> 10\u001b[0m \u001b[38;5;28;01mfrom\u001b[39;00m \u001b[38;5;21;01mpyogrio\u001b[39;00m\u001b[38;5;21;01m.\u001b[39;00m\u001b[38;5;21;01m_vsi\u001b[39;00m \u001b[38;5;28;01mimport\u001b[39;00m vsimem_rmtree_toplevel \u001b[38;5;28;01mas\u001b[39;00m _vsimem_rmtree_toplevel\n\u001b[1;32m     13\u001b[0m \u001b[38;5;28;01mdef\u001b[39;00m \u001b[38;5;21mget_vsi_path_or_buffer\u001b[39m(path_or_buffer):\n\u001b[1;32m     14\u001b[0m \u001b[38;5;250m    \u001b[39m\u001b[38;5;124;03m\"\"\"Get VSI-prefixed path or bytes buffer depending on type of path_or_buffer.\u001b[39;00m\n\u001b[1;32m     15\u001b[0m \n\u001b[1;32m     16\u001b[0m \u001b[38;5;124;03m    If path_or_buffer is a bytes object, it will be returned directly and will\u001b[39;00m\n\u001b[0;32m   (...)\u001b[0m\n\u001b[1;32m     33\u001b[0m \n\u001b[1;32m     34\u001b[0m \u001b[38;5;124;03m    \"\"\"\u001b[39;00m\n",
      "\u001b[0;31mImportError\u001b[0m: dlopen(/Users/abhishek/anaconda3/envs/dl/lib/python3.11/site-packages/pyogrio/_vsi.cpython-311-darwin.so, 0x0002): Library not loaded: @rpath/libpoppler.126.dylib\n  Referenced from: <413E6A19-458B-3234-A9DD-C70570AB464D> /Users/abhishek/anaconda3/envs/dl/lib/libgdal.32.3.6.2.dylib\n  Reason: tried: '/Users/abhishek/anaconda3/envs/dl/lib/libpoppler.126.dylib' (no such file), '/Users/abhishek/anaconda3/envs/dl/lib/libpoppler.126.dylib' (no such file), '/System/Volumes/Preboot/Cryptexes/OS/Users/abhishek/anaconda3/envs/dl/lib/libpoppler.126.dylib' (no such file), '/Users/abhishek/anaconda3/envs/dl/lib/libpoppler.126.dylib' (no such file), '/System/Volumes/Preboot/Cryptexes/OS/Users/abhishek/anaconda3/envs/dl/lib/libpoppler.126.dylib' (no such file), '/Users/abhishek/anaconda3/envs/dl/lib/libpoppler.126.dylib' (no such file), '/System/Volumes/Preboot/Cryptexes/OS/Users/abhishek/anaconda3/envs/dl/lib/libpoppler.126.dylib' (no such file), '/Users/abhishek/anaconda3/envs/dl/lib/libpoppler.126.dylib' (no such file), '/System/Volumes/Preboot/Cryptexes/OS/Users/abhishek/anaconda3/envs/dl/lib/libpoppler.126.dylib' (no such file), '/Users/abhishek/anaconda3/envs/dl/bin/../lib/libpoppler.126.dylib' (no such file), '/Users/abhishek/anaconda3/envs/dl/bin/../lib/libpoppler.126.dylib' (no such file), '/usr/local/lib/libpoppler.126.dylib' (no such file), '/usr/lib/libpoppler.126.dylib' (no such file, not in dyld cache)"
     ]
    }
   ],
   "source": [
    "import pyogrio\n",
    "# import fiona"
   ]
  },
  {
   "cell_type": "markdown",
   "metadata": {},
   "source": [
    "## 1. Data Loading and Initial Analysis"
   ]
  },
  {
   "cell_type": "code",
   "execution_count": 11,
   "metadata": {},
   "outputs": [
    {
     "ename": "ImportError",
     "evalue": "The 'read_file' function requires the 'pyogrio' or 'fiona' package, but neither is installed or imports correctly.\nImporting fiona resulted in: dlopen(/Users/abhishek/anaconda3/envs/dl/lib/python3.11/site-packages/fiona/_env.cpython-311-darwin.so, 0x0002): Library not loaded: @rpath/libpoppler.126.dylib\n  Referenced from: <413E6A19-458B-3234-A9DD-C70570AB464D> /Users/abhishek/anaconda3/envs/dl/lib/libgdal.32.3.6.2.dylib\n  Reason: tried: '/Users/abhishek/anaconda3/envs/dl/lib/libpoppler.126.dylib' (no such file), '/Users/abhishek/anaconda3/envs/dl/lib/python3.11/site-packages/fiona/../../../libpoppler.126.dylib' (no such file), '/Users/abhishek/anaconda3/envs/dl/lib/python3.11/site-packages/fiona/../../../libpoppler.126.dylib' (no such file), '/Users/abhishek/anaconda3/envs/dl/bin/../lib/libpoppler.126.dylib' (no such file), '/Users/abhishek/anaconda3/envs/dl/bin/../lib/libpoppler.126.dylib' (no such file), '/usr/local/lib/libpoppler.126.dylib' (no such file), '/usr/lib/libpoppler.126.dylib' (no such file, not in dyld cache)\nImporting pyogrio resulted in: No module named 'pyogrio'",
     "output_type": "error",
     "traceback": [
      "\u001b[0;31m---------------------------------------------------------------------------\u001b[0m",
      "\u001b[0;31mImportError\u001b[0m                               Traceback (most recent call last)",
      "Cell \u001b[0;32mIn[11], line 2\u001b[0m\n\u001b[1;32m      1\u001b[0m \u001b[38;5;66;03m# Load the GeoJSON data\u001b[39;00m\n\u001b[0;32m----> 2\u001b[0m gdf \u001b[38;5;241m=\u001b[39m \u001b[43mgpd\u001b[49m\u001b[38;5;241;43m.\u001b[39;49m\u001b[43mread_file\u001b[49m\u001b[43m(\u001b[49m\u001b[38;5;124;43m'\u001b[39;49m\u001b[38;5;124;43mPlantations Data.geojson\u001b[39;49m\u001b[38;5;124;43m'\u001b[39;49m\u001b[43m)\u001b[49m\n\u001b[1;32m      4\u001b[0m \u001b[38;5;66;03m# Display basic information\u001b[39;00m\n\u001b[1;32m      5\u001b[0m \u001b[38;5;28mprint\u001b[39m(\u001b[38;5;124m\"\u001b[39m\u001b[38;5;124mDataset Overview:\u001b[39m\u001b[38;5;124m\"\u001b[39m)\n",
      "File \u001b[0;32m~/anaconda3/envs/dl/lib/python3.11/site-packages/geopandas/io/file.py:242\u001b[0m, in \u001b[0;36m_read_file\u001b[0;34m(filename, bbox, mask, rows, engine, **kwargs)\u001b[0m\n\u001b[1;32m    172\u001b[0m \u001b[38;5;28;01mdef\u001b[39;00m \u001b[38;5;21m_read_file\u001b[39m(filename, bbox\u001b[38;5;241m=\u001b[39m\u001b[38;5;28;01mNone\u001b[39;00m, mask\u001b[38;5;241m=\u001b[39m\u001b[38;5;28;01mNone\u001b[39;00m, rows\u001b[38;5;241m=\u001b[39m\u001b[38;5;28;01mNone\u001b[39;00m, engine\u001b[38;5;241m=\u001b[39m\u001b[38;5;28;01mNone\u001b[39;00m, \u001b[38;5;241m*\u001b[39m\u001b[38;5;241m*\u001b[39mkwargs):\n\u001b[1;32m    173\u001b[0m \u001b[38;5;250m    \u001b[39m\u001b[38;5;124;03m\"\"\"\u001b[39;00m\n\u001b[1;32m    174\u001b[0m \u001b[38;5;124;03m    Returns a GeoDataFrame from a file or URL.\u001b[39;00m\n\u001b[1;32m    175\u001b[0m \n\u001b[0;32m   (...)\u001b[0m\n\u001b[1;32m    240\u001b[0m \u001b[38;5;124;03m    by using the encoding keyword parameter, e.g. ``encoding='utf-8'``.\u001b[39;00m\n\u001b[1;32m    241\u001b[0m \u001b[38;5;124;03m    \"\"\"\u001b[39;00m\n\u001b[0;32m--> 242\u001b[0m     engine \u001b[38;5;241m=\u001b[39m \u001b[43m_check_engine\u001b[49m\u001b[43m(\u001b[49m\u001b[43mengine\u001b[49m\u001b[43m,\u001b[49m\u001b[43m \u001b[49m\u001b[38;5;124;43m\"\u001b[39;49m\u001b[38;5;124;43m'\u001b[39;49m\u001b[38;5;124;43mread_file\u001b[39;49m\u001b[38;5;124;43m'\u001b[39;49m\u001b[38;5;124;43m function\u001b[39;49m\u001b[38;5;124;43m\"\u001b[39;49m\u001b[43m)\u001b[49m\n\u001b[1;32m    244\u001b[0m     filename \u001b[38;5;241m=\u001b[39m _expand_user(filename)\n\u001b[1;32m    246\u001b[0m     from_bytes \u001b[38;5;241m=\u001b[39m \u001b[38;5;28;01mFalse\u001b[39;00m\n",
      "File \u001b[0;32m~/anaconda3/envs/dl/lib/python3.11/site-packages/geopandas/io/file.py:112\u001b[0m, in \u001b[0;36m_check_engine\u001b[0;34m(engine, func)\u001b[0m\n\u001b[1;32m    110\u001b[0m     _check_pyogrio(func)\n\u001b[1;32m    111\u001b[0m \u001b[38;5;28;01melif\u001b[39;00m engine \u001b[38;5;129;01mis\u001b[39;00m \u001b[38;5;28;01mNone\u001b[39;00m:\n\u001b[0;32m--> 112\u001b[0m     \u001b[38;5;28;01mraise\u001b[39;00m \u001b[38;5;167;01mImportError\u001b[39;00m(\n\u001b[1;32m    113\u001b[0m         \u001b[38;5;124mf\u001b[39m\u001b[38;5;124m\"\u001b[39m\u001b[38;5;124mThe \u001b[39m\u001b[38;5;132;01m{\u001b[39;00mfunc\u001b[38;5;132;01m}\u001b[39;00m\u001b[38;5;124m requires the \u001b[39m\u001b[38;5;124m'\u001b[39m\u001b[38;5;124mpyogrio\u001b[39m\u001b[38;5;124m'\u001b[39m\u001b[38;5;124m or \u001b[39m\u001b[38;5;124m'\u001b[39m\u001b[38;5;124mfiona\u001b[39m\u001b[38;5;124m'\u001b[39m\u001b[38;5;124m package, \u001b[39m\u001b[38;5;124m\"\u001b[39m\n\u001b[1;32m    114\u001b[0m         \u001b[38;5;124m\"\u001b[39m\u001b[38;5;124mbut neither is installed or imports correctly.\u001b[39m\u001b[38;5;124m\"\u001b[39m\n\u001b[1;32m    115\u001b[0m         \u001b[38;5;124mf\u001b[39m\u001b[38;5;124m\"\u001b[39m\u001b[38;5;130;01m\\n\u001b[39;00m\u001b[38;5;124mImporting fiona resulted in: \u001b[39m\u001b[38;5;132;01m{\u001b[39;00mfiona_import_error\u001b[38;5;132;01m}\u001b[39;00m\u001b[38;5;124m\"\u001b[39m\n\u001b[1;32m    116\u001b[0m         \u001b[38;5;124mf\u001b[39m\u001b[38;5;124m\"\u001b[39m\u001b[38;5;130;01m\\n\u001b[39;00m\u001b[38;5;124mImporting pyogrio resulted in: \u001b[39m\u001b[38;5;132;01m{\u001b[39;00mpyogrio_import_error\u001b[38;5;132;01m}\u001b[39;00m\u001b[38;5;124m\"\u001b[39m\n\u001b[1;32m    117\u001b[0m     )\n\u001b[1;32m    119\u001b[0m \u001b[38;5;28;01mreturn\u001b[39;00m engine\n",
      "\u001b[0;31mImportError\u001b[0m: The 'read_file' function requires the 'pyogrio' or 'fiona' package, but neither is installed or imports correctly.\nImporting fiona resulted in: dlopen(/Users/abhishek/anaconda3/envs/dl/lib/python3.11/site-packages/fiona/_env.cpython-311-darwin.so, 0x0002): Library not loaded: @rpath/libpoppler.126.dylib\n  Referenced from: <413E6A19-458B-3234-A9DD-C70570AB464D> /Users/abhishek/anaconda3/envs/dl/lib/libgdal.32.3.6.2.dylib\n  Reason: tried: '/Users/abhishek/anaconda3/envs/dl/lib/libpoppler.126.dylib' (no such file), '/Users/abhishek/anaconda3/envs/dl/lib/python3.11/site-packages/fiona/../../../libpoppler.126.dylib' (no such file), '/Users/abhishek/anaconda3/envs/dl/lib/python3.11/site-packages/fiona/../../../libpoppler.126.dylib' (no such file), '/Users/abhishek/anaconda3/envs/dl/bin/../lib/libpoppler.126.dylib' (no such file), '/Users/abhishek/anaconda3/envs/dl/bin/../lib/libpoppler.126.dylib' (no such file), '/usr/local/lib/libpoppler.126.dylib' (no such file), '/usr/lib/libpoppler.126.dylib' (no such file, not in dyld cache)\nImporting pyogrio resulted in: No module named 'pyogrio'"
     ]
    }
   ],
   "source": [
    "# Load the GeoJSON data\n",
    "gdf = gpd.read_file('Plantations Data.geojson')\n",
    "\n",
    "# Display basic information\n",
    "print(\"Dataset Overview:\")\n",
    "print(f\"Number of plantations: {len(gdf)}\")\n",
    "print(f\"Number of unique farmers: {gdf['FARMER NAME'].nunique()}\")\n",
    "print(f\"Total plantation area: {gdf['PLOT AREA'].sum():.2f} hectares\")\n",
    "\n",
    "# Display first few rows\n",
    "gdf.head()"
   ]
  },
  {
   "cell_type": "markdown",
   "metadata": {},
   "source": [
    "## 2. Spatial Distribution Analysis"
   ]
  },
  {
   "cell_type": "code",
   "execution_count": null,
   "metadata": {},
   "outputs": [],
   "source": [
    "# Create interactive map\n",
    "center_lat = gdf.geometry.centroid.y.mean()\n",
    "center_lon = gdf.geometry.centroid.x.mean()\n",
    "\n",
    "m = folium.Map(location=[center_lat, center_lon], zoom_start=10)\n",
    "\n",
    "# Add plantations to map\n",
    "for idx, row in gdf.iterrows():\n",
    "    folium.GeoJson(\n",
    "        row.geometry.__geo_interface__,\n",
    "        popup=f\"Farmer: {row['FARMER NAME']}<br>Area: {row['PLOT AREA']} ha<br>Growth: {row['PLTN GROWTH']}\"\n",
    "    ).add_to(m)\n",
    "\n",
    "m"
   ]
  },
  {
   "cell_type": "markdown",
   "metadata": {},
   "source": [
    "## 3. Temporal Analysis"
   ]
  },
  {
   "cell_type": "code",
   "execution_count": null,
   "metadata": {},
   "outputs": [],
   "source": [
    "# Convert dates\n",
    "gdf['PLANTING DATE'] = pd.to_datetime(gdf['PLANTING DATE'])\n",
    "gdf['COPPICING DATE'] = pd.to_datetime(gdf['COPPICING DATE'])\n",
    "\n",
    "# Plot planting timeline\n",
    "plt.figure(figsize=(15, 6))\n",
    "gdf['PLANTING DATE'].value_counts().sort_index().plot(kind='line')\n",
    "plt.title('Plantation Timeline')\n",
    "plt.xlabel('Date')\n",
    "plt.ylabel('Number of Plantations')\n",
    "plt.xticks(rotation=45)\n",
    "plt.show()"
   ]
  },
  {
   "cell_type": "markdown",
   "metadata": {},
   "source": [
    "## 4. Growth Analysis"
   ]
  },
  {
   "cell_type": "code",
   "execution_count": null,
   "metadata": {},
   "outputs": [],
   "source": [
    "# Growth quality distribution\n",
    "plt.figure(figsize=(10, 6))\n",
    "sns.countplot(data=gdf, x='PLTN GROWTH')\n",
    "plt.title('Distribution of Plantation Growth Quality')\n",
    "plt.xticks(rotation=45)\n",
    "plt.show()\n",
    "\n",
    "# Height analysis\n",
    "plt.figure(figsize=(12, 6))\n",
    "sns.boxplot(data=gdf, x='PLTN GROWTH', y='AVG HEIGHT')\n",
    "plt.title('Height Distribution by Growth Quality')\n",
    "plt.show()"
   ]
  },
  {
   "cell_type": "markdown",
   "metadata": {},
   "source": [
    "## 5. Area Analysis"
   ]
  },
  {
   "cell_type": "code",
   "execution_count": null,
   "metadata": {},
   "outputs": [],
   "source": [
    "# Plot area distribution\n",
    "plt.figure(figsize=(12, 6))\n",
    "sns.histplot(data=gdf, x='PLOT AREA', bins=30)\n",
    "plt.title('Distribution of Plot Areas')\n",
    "plt.xlabel('Area (hectares)')\n",
    "plt.show()\n",
    "\n",
    "# Area by district\n",
    "district_area = gdf.groupby('DISTRICT')['PLOT AREA'].sum().sort_values(ascending=True)\n",
    "plt.figure(figsize=(12, 8))\n",
    "district_area.plot(kind='barh')\n",
    "plt.title('Total Plantation Area by District')\n",
    "plt.xlabel('Total Area (hectares)')\n",
    "plt.show()"
   ]
  },
  {
   "cell_type": "markdown",
   "metadata": {},
   "source": [
    "## 6. Species Analysis"
   ]
  },
  {
   "cell_type": "code",
   "execution_count": null,
   "metadata": {},
   "outputs": [],
   "source": [
    "# Species distribution\n",
    "plt.figure(figsize=(10, 6))\n",
    "gdf['TREE SPECIES'].value_counts().plot(kind='pie', autopct='%1.1f%%')\n",
    "plt.title('Distribution of Tree Species')\n",
    "plt.show()\n",
    "\n",
    "# Growth quality by species\n",
    "plt.figure(figsize=(12, 6))\n",
    "pd.crosstab(gdf['TREE SPECIES'], gdf['PLTN GROWTH']).plot(kind='bar', stacked=True)\n",
    "plt.title('Growth Quality Distribution by Species')\n",
    "plt.xticks(rotation=45)\n",
    "plt.legend(title='Growth Quality')\n",
    "plt.show()"
   ]
  },
  {
   "cell_type": "markdown",
   "metadata": {},
   "source": [
    "## 7. Statistical Analysis"
   ]
  },
  {
   "cell_type": "code",
   "execution_count": null,
   "metadata": {},
   "outputs": [],
   "source": [
    "# Calculate key statistics\n",
    "stats = {\n",
    "    'Total Plantations': len(gdf),\n",
    "    'Total Area': gdf['PLOT AREA'].sum(),\n",
    "    'Average Plot Size': gdf['PLOT AREA'].mean(),\n",
    "    'Median Plot Size': gdf['PLOT AREA'].median(),\n",
    "    'Number of Districts': gdf['DISTRICT'].nunique(),\n",
    "    'Number of Farmers': gdf['FARMER NAME'].nunique(),\n",
    "    'Average Height': gdf['AVG HEIGHT'].mean(),\n",
    "    'Growth Quality Distribution': gdf['PLTN GROWTH'].value_counts().to_dict()\n",
    "}\n",
    "\n",
    "pd.Series(stats)"
   ]
  },
  {
   "cell_type": "markdown",
   "metadata": {},
   "source": [
    "## 8. Correlation Analysis"
   ]
  },
  {
   "cell_type": "code",
   "execution_count": null,
   "metadata": {},
   "outputs": [],
   "source": [
    "# Select numerical columns\n",
    "numerical_cols = ['PLOT AREA', 'AVG HEIGHT', 'Row to Row SPACING', 'Plant to Plant SPACING', 'Age']\n",
    "correlation_matrix = gdf[numerical_cols].corr()\n",
    "\n",
    "# Plot correlation heatmap\n",
    "plt.figure(figsize=(10, 8))\n",
    "sns.heatmap(correlation_matrix, annot=True, cmap='coolwarm', center=0)\n",
    "plt.title('Correlation Matrix of Numerical Variables')\n",
    "plt.show()"
   ]
  }
 ],
 "metadata": {
  "kernelspec": {
   "display_name": "Python 3 (ipykernel)",
   "language": "python",
   "name": "python3"
  },
  "language_info": {
   "codemirror_mode": {
    "name": "ipython",
    "version": 3
   },
   "file_extension": ".py",
   "mimetype": "text/x-python",
   "name": "python",
   "nbconvert_exporter": "python",
   "pygments_lexer": "ipython3",
   "version": "3.11.3"
  }
 },
 "nbformat": 4,
 "nbformat_minor": 4
}
